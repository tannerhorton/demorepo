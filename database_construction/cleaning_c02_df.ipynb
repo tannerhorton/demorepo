{
 "cells": [
  {
   "cell_type": "code",
   "execution_count": 9,
   "id": "efed7cfd",
   "metadata": {},
   "outputs": [],
   "source": [
    "#Import Main Dependencies\n",
    "import pandas as pd\n",
    "from sqlalchemy import create_engine\n",
    "from unicodedata import normalize"
   ]
  },
  {
   "cell_type": "code",
   "execution_count": 10,
   "id": "4bbfed30",
   "metadata": {},
   "outputs": [
    {
     "data": {
      "text/html": [
       "<div>\n",
       "<style scoped>\n",
       "    .dataframe tbody tr th:only-of-type {\n",
       "        vertical-align: middle;\n",
       "    }\n",
       "\n",
       "    .dataframe tbody tr th {\n",
       "        vertical-align: top;\n",
       "    }\n",
       "\n",
       "    .dataframe thead th {\n",
       "        text-align: right;\n",
       "    }\n",
       "</style>\n",
       "<table border=\"1\" class=\"dataframe\">\n",
       "  <thead>\n",
       "    <tr style=\"text-align: right;\">\n",
       "      <th></th>\n",
       "      <th>Country</th>\n",
       "      <th>Code</th>\n",
       "      <th>CO2_emission_in_tons</th>\n",
       "      <th>Population_in_2022</th>\n",
       "      <th>Area</th>\n",
       "      <th>Year</th>\n",
       "      <th>Density_in_km2</th>\n",
       "      <th>percent_of_World_demicals</th>\n",
       "    </tr>\n",
       "  </thead>\n",
       "  <tbody>\n",
       "    <tr>\n",
       "      <th>0</th>\n",
       "      <td>Afghanistan</td>\n",
       "      <td>AF</td>\n",
       "      <td>0.0</td>\n",
       "      <td>41128771.0</td>\n",
       "      <td>652230.0</td>\n",
       "      <td>1750</td>\n",
       "      <td>63.0</td>\n",
       "      <td>0.004</td>\n",
       "    </tr>\n",
       "    <tr>\n",
       "      <th>1</th>\n",
       "      <td>Afghanistan</td>\n",
       "      <td>AF</td>\n",
       "      <td>0.0</td>\n",
       "      <td>41128771.0</td>\n",
       "      <td>652230.0</td>\n",
       "      <td>1751</td>\n",
       "      <td>63.0</td>\n",
       "      <td>0.004</td>\n",
       "    </tr>\n",
       "    <tr>\n",
       "      <th>2</th>\n",
       "      <td>Afghanistan</td>\n",
       "      <td>AF</td>\n",
       "      <td>0.0</td>\n",
       "      <td>41128771.0</td>\n",
       "      <td>652230.0</td>\n",
       "      <td>1752</td>\n",
       "      <td>63.0</td>\n",
       "      <td>0.004</td>\n",
       "    </tr>\n",
       "    <tr>\n",
       "      <th>3</th>\n",
       "      <td>Afghanistan</td>\n",
       "      <td>AF</td>\n",
       "      <td>0.0</td>\n",
       "      <td>41128771.0</td>\n",
       "      <td>652230.0</td>\n",
       "      <td>1753</td>\n",
       "      <td>63.0</td>\n",
       "      <td>0.004</td>\n",
       "    </tr>\n",
       "    <tr>\n",
       "      <th>4</th>\n",
       "      <td>Afghanistan</td>\n",
       "      <td>AF</td>\n",
       "      <td>0.0</td>\n",
       "      <td>41128771.0</td>\n",
       "      <td>652230.0</td>\n",
       "      <td>1754</td>\n",
       "      <td>63.0</td>\n",
       "      <td>0.004</td>\n",
       "    </tr>\n",
       "  </tbody>\n",
       "</table>\n",
       "</div>"
      ],
      "text/plain": [
       "       Country Code  CO2_emission_in_tons  Population_in_2022      Area  Year  \\\n",
       "0  Afghanistan   AF                   0.0          41128771.0  652230.0  1750   \n",
       "1  Afghanistan   AF                   0.0          41128771.0  652230.0  1751   \n",
       "2  Afghanistan   AF                   0.0          41128771.0  652230.0  1752   \n",
       "3  Afghanistan   AF                   0.0          41128771.0  652230.0  1753   \n",
       "4  Afghanistan   AF                   0.0          41128771.0  652230.0  1754   \n",
       "\n",
       "   Density_in_km2  percent_of_World_demicals  \n",
       "0            63.0                      0.004  \n",
       "1            63.0                      0.004  \n",
       "2            63.0                      0.004  \n",
       "3            63.0                      0.004  \n",
       "4            63.0                      0.004  "
      ]
     },
     "execution_count": 10,
     "metadata": {},
     "output_type": "execute_result"
    }
   ],
   "source": [
    "#Read in the emissions data file \n",
    "csv_file = \"resources/CO2emissionbycountriesclean.csv\"\n",
    "c02_df = pd.read_csv(csv_file)\n",
    "c02_df.head()"
   ]
  },
  {
   "cell_type": "code",
   "execution_count": 11,
   "id": "2933a12c",
   "metadata": {},
   "outputs": [
    {
     "data": {
      "text/plain": [
       "Country                       object\n",
       "Code                          object\n",
       "CO2_emission_in_tons         float64\n",
       "Population_in_2022           float64\n",
       "Area                         float64\n",
       "Year                           int64\n",
       "Density_in_km2               float64\n",
       "percent_of_World_demicals    float64\n",
       "dtype: object"
      ]
     },
     "execution_count": 11,
     "metadata": {},
     "output_type": "execute_result"
    }
   ],
   "source": [
    "# check data types for SQL compatibility \n",
    "c02_df.dtypes"
   ]
  },
  {
   "cell_type": "code",
   "execution_count": 12,
   "id": "03a2f2cc",
   "metadata": {},
   "outputs": [],
   "source": [
    "#Create SQL Alchemy engine to postgres database \"IMDB_db\"\n",
    "protocol = 'postgresql'\n",
    "username = 'postgres'\n",
    "password = 'rossygossy64'\n",
    "host = 'localhost'\n",
    "port = 5432\n",
    "database_name = 'Emissions_CO2'\n",
    "rds_connection_string = f'{protocol}://{username}:{password}@{host}:{port}/{database_name}'\n",
    "engine = create_engine(rds_connection_string)"
   ]
  },
  {
   "cell_type": "code",
   "execution_count": 13,
   "id": "a7591e0b",
   "metadata": {},
   "outputs": [
    {
     "name": "stderr",
     "output_type": "stream",
     "text": [
      "/var/folders/lf/_fj3_9ln3j5bmwl546qpzm1w0000gn/T/ipykernel_6944/2549929793.py:2: SADeprecationWarning: The Engine.table_names() method is deprecated and will be removed in a future release.  Please refer to Inspector.get_table_names(). (deprecated since: 1.4)\n",
      "  engine.table_names()\n"
     ]
    },
    {
     "data": {
      "text/plain": [
       "['emissions']"
      ]
     },
     "execution_count": 13,
     "metadata": {},
     "output_type": "execute_result"
    }
   ],
   "source": [
    "#show the existing table names in the database\n",
    "engine.table_names()"
   ]
  },
  {
   "cell_type": "code",
   "execution_count": 14,
   "id": "ab015598",
   "metadata": {},
   "outputs": [
    {
     "data": {
      "text/plain": [
       "620"
      ]
     },
     "execution_count": 14,
     "metadata": {},
     "output_type": "execute_result"
    }
   ],
   "source": [
    "#write the data in the dataframe to the database table\n",
    "c02_df.to_sql(name='emissions', con=engine, if_exists='replace', index=False)"
   ]
  },
  {
   "cell_type": "code",
   "execution_count": 15,
   "id": "55aefea5",
   "metadata": {},
   "outputs": [
    {
     "data": {
      "text/html": [
       "<div>\n",
       "<style scoped>\n",
       "    .dataframe tbody tr th:only-of-type {\n",
       "        vertical-align: middle;\n",
       "    }\n",
       "\n",
       "    .dataframe tbody tr th {\n",
       "        vertical-align: top;\n",
       "    }\n",
       "\n",
       "    .dataframe thead th {\n",
       "        text-align: right;\n",
       "    }\n",
       "</style>\n",
       "<table border=\"1\" class=\"dataframe\">\n",
       "  <thead>\n",
       "    <tr style=\"text-align: right;\">\n",
       "      <th></th>\n",
       "      <th>Country</th>\n",
       "      <th>Code</th>\n",
       "      <th>CO2_emission_in_tons</th>\n",
       "      <th>Population_in_2022</th>\n",
       "      <th>Area</th>\n",
       "      <th>Year</th>\n",
       "      <th>Density_in_km2</th>\n",
       "      <th>percent_of_World_demicals</th>\n",
       "    </tr>\n",
       "  </thead>\n",
       "  <tbody>\n",
       "    <tr>\n",
       "      <th>0</th>\n",
       "      <td>Afghanistan</td>\n",
       "      <td>AF</td>\n",
       "      <td>0.0</td>\n",
       "      <td>41128771.0</td>\n",
       "      <td>652230.0</td>\n",
       "      <td>1750</td>\n",
       "      <td>63.0</td>\n",
       "      <td>0.004</td>\n",
       "    </tr>\n",
       "    <tr>\n",
       "      <th>1</th>\n",
       "      <td>Afghanistan</td>\n",
       "      <td>AF</td>\n",
       "      <td>0.0</td>\n",
       "      <td>41128771.0</td>\n",
       "      <td>652230.0</td>\n",
       "      <td>1751</td>\n",
       "      <td>63.0</td>\n",
       "      <td>0.004</td>\n",
       "    </tr>\n",
       "    <tr>\n",
       "      <th>2</th>\n",
       "      <td>Afghanistan</td>\n",
       "      <td>AF</td>\n",
       "      <td>0.0</td>\n",
       "      <td>41128771.0</td>\n",
       "      <td>652230.0</td>\n",
       "      <td>1752</td>\n",
       "      <td>63.0</td>\n",
       "      <td>0.004</td>\n",
       "    </tr>\n",
       "    <tr>\n",
       "      <th>3</th>\n",
       "      <td>Afghanistan</td>\n",
       "      <td>AF</td>\n",
       "      <td>0.0</td>\n",
       "      <td>41128771.0</td>\n",
       "      <td>652230.0</td>\n",
       "      <td>1753</td>\n",
       "      <td>63.0</td>\n",
       "      <td>0.004</td>\n",
       "    </tr>\n",
       "    <tr>\n",
       "      <th>4</th>\n",
       "      <td>Afghanistan</td>\n",
       "      <td>AF</td>\n",
       "      <td>0.0</td>\n",
       "      <td>41128771.0</td>\n",
       "      <td>652230.0</td>\n",
       "      <td>1754</td>\n",
       "      <td>63.0</td>\n",
       "      <td>0.004</td>\n",
       "    </tr>\n",
       "    <tr>\n",
       "      <th>...</th>\n",
       "      <td>...</td>\n",
       "      <td>...</td>\n",
       "      <td>...</td>\n",
       "      <td>...</td>\n",
       "      <td>...</td>\n",
       "      <td>...</td>\n",
       "      <td>...</td>\n",
       "      <td>...</td>\n",
       "    </tr>\n",
       "    <tr>\n",
       "      <th>59615</th>\n",
       "      <td>Zimbabwe</td>\n",
       "      <td>ZW</td>\n",
       "      <td>736467042.0</td>\n",
       "      <td>16320537.0</td>\n",
       "      <td>390757.0</td>\n",
       "      <td>2016</td>\n",
       "      <td>42.0</td>\n",
       "      <td>0.003</td>\n",
       "    </tr>\n",
       "    <tr>\n",
       "      <th>59616</th>\n",
       "      <td>Zimbabwe</td>\n",
       "      <td>ZW</td>\n",
       "      <td>746048675.0</td>\n",
       "      <td>16320537.0</td>\n",
       "      <td>390757.0</td>\n",
       "      <td>2017</td>\n",
       "      <td>42.0</td>\n",
       "      <td>0.003</td>\n",
       "    </tr>\n",
       "    <tr>\n",
       "      <th>59617</th>\n",
       "      <td>Zimbabwe</td>\n",
       "      <td>ZW</td>\n",
       "      <td>757903042.0</td>\n",
       "      <td>16320537.0</td>\n",
       "      <td>390757.0</td>\n",
       "      <td>2018</td>\n",
       "      <td>42.0</td>\n",
       "      <td>0.003</td>\n",
       "    </tr>\n",
       "    <tr>\n",
       "      <th>59618</th>\n",
       "      <td>Zimbabwe</td>\n",
       "      <td>ZW</td>\n",
       "      <td>768852126.0</td>\n",
       "      <td>16320537.0</td>\n",
       "      <td>390757.0</td>\n",
       "      <td>2019</td>\n",
       "      <td>42.0</td>\n",
       "      <td>0.003</td>\n",
       "    </tr>\n",
       "    <tr>\n",
       "      <th>59619</th>\n",
       "      <td>Zimbabwe</td>\n",
       "      <td>ZW</td>\n",
       "      <td>779383468.0</td>\n",
       "      <td>16320537.0</td>\n",
       "      <td>390757.0</td>\n",
       "      <td>2020</td>\n",
       "      <td>42.0</td>\n",
       "      <td>0.003</td>\n",
       "    </tr>\n",
       "  </tbody>\n",
       "</table>\n",
       "<p>59620 rows × 8 columns</p>\n",
       "</div>"
      ],
      "text/plain": [
       "           Country Code  CO2_emission_in_tons  Population_in_2022      Area  \\\n",
       "0      Afghanistan   AF                   0.0          41128771.0  652230.0   \n",
       "1      Afghanistan   AF                   0.0          41128771.0  652230.0   \n",
       "2      Afghanistan   AF                   0.0          41128771.0  652230.0   \n",
       "3      Afghanistan   AF                   0.0          41128771.0  652230.0   \n",
       "4      Afghanistan   AF                   0.0          41128771.0  652230.0   \n",
       "...            ...  ...                   ...                 ...       ...   \n",
       "59615     Zimbabwe   ZW           736467042.0          16320537.0  390757.0   \n",
       "59616     Zimbabwe   ZW           746048675.0          16320537.0  390757.0   \n",
       "59617     Zimbabwe   ZW           757903042.0          16320537.0  390757.0   \n",
       "59618     Zimbabwe   ZW           768852126.0          16320537.0  390757.0   \n",
       "59619     Zimbabwe   ZW           779383468.0          16320537.0  390757.0   \n",
       "\n",
       "       Year  Density_in_km2  percent_of_World_demicals  \n",
       "0      1750            63.0                      0.004  \n",
       "1      1751            63.0                      0.004  \n",
       "2      1752            63.0                      0.004  \n",
       "3      1753            63.0                      0.004  \n",
       "4      1754            63.0                      0.004  \n",
       "...     ...             ...                        ...  \n",
       "59615  2016            42.0                      0.003  \n",
       "59616  2017            42.0                      0.003  \n",
       "59617  2018            42.0                      0.003  \n",
       "59618  2019            42.0                      0.003  \n",
       "59619  2020            42.0                      0.003  \n",
       "\n",
       "[59620 rows x 8 columns]"
      ]
     },
     "execution_count": 15,
     "metadata": {},
     "output_type": "execute_result"
    }
   ],
   "source": [
    "#Query the carbon emissions data table to confirm the above data load\n",
    "pd.read_sql_query('select * from public.\"emissions\"', con=engine)"
   ]
  },
  {
   "cell_type": "code",
   "execution_count": 16,
   "id": "c14c4c47",
   "metadata": {},
   "outputs": [
    {
     "data": {
      "text/plain": [
       "Country                      59620\n",
       "Code                         57452\n",
       "CO2_emission_in_tons         59620\n",
       "Population_in_2022           53116\n",
       "Area                         55284\n",
       "Year                         59620\n",
       "Density_in_km2               53116\n",
       "percent_of_World_demicals    55284\n",
       "dtype: int64"
      ]
     },
     "execution_count": 16,
     "metadata": {},
     "output_type": "execute_result"
    }
   ],
   "source": [
    "pd.read_sql_query('select * from public.\"emissions\"', con=engine).count()"
   ]
  }
 ],
 "metadata": {
  "kernelspec": {
   "display_name": "Python 3 (ipykernel)",
   "language": "python",
   "name": "python3"
  },
  "language_info": {
   "codemirror_mode": {
    "name": "ipython",
    "version": 3
   },
   "file_extension": ".py",
   "mimetype": "text/x-python",
   "name": "python",
   "nbconvert_exporter": "python",
   "pygments_lexer": "ipython3",
   "version": "3.9.12"
  }
 },
 "nbformat": 4,
 "nbformat_minor": 5
}
